{
 "cells": [
  {
   "cell_type": "code",
   "execution_count": 3,
   "id": "15c0bd9f",
   "metadata": {},
   "outputs": [
    {
     "name": "stdout",
     "output_type": "stream",
     "text": [
      "enter your number_of_USD you want change to EGY:  12\n",
      "number of Egyptian Pound aftre change from dollar is: 188.4036\n"
     ]
    }
   ],
   "source": [
    "import requests\n",
    "from bs4 import BeautifulSoup\n",
    "\n",
    "page = requests.get(\"https://www.exchangerates.org.uk/Dollars-to-Egyptian-Pounds-currency-conversion-page.html\")\n",
    "\n",
    "\n",
    "#res = page.content\n",
    "\n",
    "#Extracting data from a web page and placing it in a list \n",
    "soup = BeautifulSoup(page.text,\"html.parser\")\n",
    "\n",
    "USD = soup.findAll(\"span\",{\"id\":\"shd2a\"})\n",
    "\n",
    "for x in range(len(USD)):\n",
    "    z = USD[x].text\n",
    "\n",
    "z = z.split(\" \")\n",
    "    \n",
    "    \n",
    "    \n",
    "\n",
    "#Enter the value to be converted into pounds \n",
    "number_of_USD = input(\"enter your number_of_USD you want change to EGY:  \")\n",
    "\n",
    "#Converting the value entered by the user (from the dollar to the Egyptian pound and printing the output) \n",
    "number_of_Egyptian_Pound = float(number_of_USD) * float(z[3])\n",
    "print(f\"number of Egyptian Pound aftre change from dollar is: {number_of_Egyptian_Pound}\")\n",
    "\n"
   ]
  },
  {
   "cell_type": "markdown",
   "id": "78f1dcde",
   "metadata": {},
   "source": [
    "# "
   ]
  },
  {
   "cell_type": "code",
   "execution_count": null,
   "id": "248f297d",
   "metadata": {},
   "outputs": [],
   "source": []
  }
 ],
 "metadata": {
  "kernelspec": {
   "display_name": "Python 3",
   "language": "python",
   "name": "python3"
  },
  "language_info": {
   "codemirror_mode": {
    "name": "ipython",
    "version": 3
   },
   "file_extension": ".py",
   "mimetype": "text/x-python",
   "name": "python",
   "nbconvert_exporter": "python",
   "pygments_lexer": "ipython3",
   "version": "3.8.8"
  }
 },
 "nbformat": 4,
 "nbformat_minor": 5
}
