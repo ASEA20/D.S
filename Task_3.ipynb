{
 "cells": [
  {
   "cell_type": "code",
   "execution_count": 1,
   "id": "9e683a24",
   "metadata": {},
   "outputs": [
    {
     "name": "stdout",
     "output_type": "stream",
     "text": [
      "enter your number_of_USD you want change to EUR:  12\n",
      "number of EURO aftre change from dollar is: 10.2012\n"
     ]
    }
   ],
   "source": [
    "import requests\n",
    "from bs4 import BeautifulSoup\n",
    "\n",
    "page = requests.get(\"https://www.exchangerates.org.uk/Dollars-to-Euros-currency-conversion-page.html\")\n",
    "\n",
    "\n",
    "res = page.content\n",
    "\n",
    "#Extracting data from a web page and placing it in a list \n",
    "soup = BeautifulSoup(page.text,\"html.parser\")\n",
    "\n",
    "USD = soup.findAll(\"span\",{\"id\":\"shd2a\"})\n",
    "\n",
    "for x in range(len(USD)):\n",
    "    z = USD[x].text\n",
    "\n",
    "z = z.split(\" \")\n",
    "    \n",
    "    \n",
    "    \n",
    "\n",
    "#Enter the value to be converted into EURE \n",
    "number_of_USD = input(\"enter your number_of_USD you want change to EUR:  \")\n",
    "\n",
    "#Converting the value entered by the user (from the dollar to the EURO and printing the output) \n",
    "number_of_EURO = float(number_of_USD) * float(z[3])\n",
    "print(f\"number of EURO aftre change from dollar is: {number_of_EURO}\")\n",
    "\n"
   ]
  },
  {
   "cell_type": "code",
   "execution_count": null,
   "id": "0bb9fd62",
   "metadata": {},
   "outputs": [],
   "source": []
  }
 ],
 "metadata": {
  "kernelspec": {
   "display_name": "Python 3",
   "language": "python",
   "name": "python3"
  },
  "language_info": {
   "codemirror_mode": {
    "name": "ipython",
    "version": 3
   },
   "file_extension": ".py",
   "mimetype": "text/x-python",
   "name": "python",
   "nbconvert_exporter": "python",
   "pygments_lexer": "ipython3",
   "version": "3.8.8"
  }
 },
 "nbformat": 4,
 "nbformat_minor": 5
}
