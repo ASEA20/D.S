{
 "cells": [
  {
   "cell_type": "code",
   "execution_count": 1,
   "id": "3c37f3b9",
   "metadata": {},
   "outputs": [],
   "source": [
    "import requests\n",
    "import json \n",
    "import csv \n",
    "import time  \n",
    "import pandas"
   ]
  },
  {
   "cell_type": "code",
   "execution_count": null,
   "id": "417ebf8d",
   "metadata": {},
   "outputs": [],
   "source": [
    "with open('weather.csv', 'w') as f:\n",
    "    writer = csv.DictWriter(f, fieldnames=['weather', 'humidity', 'visibility' , 'pressure' , 'wind_speed'])\n",
    "    writer.writeheader()\n",
    "    for i in range(10):\n",
    "        url = \"http://api.weatherstack.com/current?access_key=cce43aa3a3de500cc32c5df0e67c9408&query=Cairo\"\n",
    "        response = requests.request(\"GET\", url)\n",
    "        json_response = json.loads(response.text)\n",
    "        weather = json_response['current']['weather_descriptions'][0]\n",
    "        humidity= json_response['current']['humidity']\n",
    "        visibility= json_response['current']['visibility']\n",
    "        pressure= json_response['current']['pressure']\n",
    "        wind_speed= json_response['current']['wind_speed']\n",
    "        \n",
    "        writer.writerow({'weather': weather, 'humidity': humidity, 'visibility': visibility , 'pressure' : pressure , 'wind_speed' : wind_speed})\n",
    "        \n",
    "        print(f'scrapping done for {i+1}')\n",
    "        time.sleep(1)"
   ]
  },
  {
   "cell_type": "code",
   "execution_count": null,
   "id": "d2adbb8e",
   "metadata": {},
   "outputs": [],
   "source": [
    "pandas.read_csv('weather.csv')"
   ]
  },
  {
   "cell_type": "code",
   "execution_count": null,
   "id": "82a779f5",
   "metadata": {},
   "outputs": [],
   "source": []
  },
  {
   "cell_type": "code",
   "execution_count": null,
   "id": "a8ebb140",
   "metadata": {},
   "outputs": [],
   "source": []
  },
  {
   "cell_type": "code",
   "execution_count": null,
   "id": "fb692342",
   "metadata": {},
   "outputs": [],
   "source": []
  }
 ],
 "metadata": {
  "kernelspec": {
   "display_name": "Python 3",
   "language": "python",
   "name": "python3"
  },
  "language_info": {
   "codemirror_mode": {
    "name": "ipython",
    "version": 3
   },
   "file_extension": ".py",
   "mimetype": "text/x-python",
   "name": "python",
   "nbconvert_exporter": "python",
   "pygments_lexer": "ipython3",
   "version": "3.8.8"
  }
 },
 "nbformat": 4,
 "nbformat_minor": 5
}
